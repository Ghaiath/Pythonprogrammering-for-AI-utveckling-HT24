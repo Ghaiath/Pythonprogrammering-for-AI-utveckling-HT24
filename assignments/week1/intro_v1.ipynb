{
 "cells": [
  {
   "cell_type": "code",
   "execution_count": 13,
   "metadata": {},
   "outputs": [
    {
     "name": "stdout",
     "output_type": "stream",
     "text": [
      "6\n"
     ]
    }
   ],
   "source": [
    "## Uppgift 1\n",
    "# Skriv ett program som emot en sträng som input och skriver ut längden på strängen.\n",
    "# Exempel-input: \"thisIsAString\"\n",
    "# Förväntad output: 13\n",
    "\n",
    "user_input = input(\"Please enter the string: \")\n",
    "print(len(user_input))"
   ]
  },
  {
   "cell_type": "code",
   "execution_count": 16,
   "metadata": {},
   "outputs": [
    {
     "name": "stdout",
     "output_type": "stream",
     "text": [
      "{'a': 2, 's': 2, 'd': 2}\n"
     ]
    }
   ],
   "source": [
    "## Uppgift 2\n",
    "# Skriv ett program som skriver ut frekvensen av tecken i en given sträng.\n",
    "# Exempel-input: \"banana\"\n",
    "# Förväntad output: {\"b\":1, \"a\":3, \"n\":2}\n",
    "\n",
    "user_input = input(\"Please enter the string: \")\n",
    "output_dict = {}\n",
    "\n",
    "for charecter_key in user_input:\n",
    "  if(charecter_key not in output_dict):\n",
    "    output_dict.update({charecter_key: 1})\n",
    "  else:\n",
    "    output_dict.get(charecter_key)\n",
    "    output_dict.update({charecter_key: output_dict.get(charecter_key) + 1})\n",
    "  \n",
    "print(output_dict)\n"
   ]
  },
  {
   "cell_type": "code",
   "execution_count": 22,
   "metadata": {},
   "outputs": [
    {
     "name": "stdout",
     "output_type": "stream",
     "text": [
      "12 56\n"
     ]
    }
   ],
   "source": [
    "## Uppgift 3\n",
    "# Skriv ett program som för en given sträng skriver ut de två första och de två sista tecknen i strängen (på valfritt format)\n",
    "# Exempel-input: \"banana\"\n",
    "# Förväntad output: \"ba na\"\n",
    "\n",
    "user_input = input(\"Please enter the string: \")\n",
    "print(f\"{user_input[0:2]} {user_input[-2:]}\")"
   ]
  },
  {
   "cell_type": "code",
   "execution_count": 42,
   "metadata": {},
   "outputs": [
    {
     "name": "stdout",
     "output_type": "stream",
     "text": [
      "xyc\n",
      "abz\n"
     ]
    }
   ],
   "source": [
    "## Uppgift 4\n",
    "# Skriv ett program som tar två strängar som input och skapar EN ny sträng där de två första tecken i varje sträng bytts ut.\n",
    "# Exempel-input: \"abc\", \"xyz\"\n",
    "# Förväntad output: \"xyc abz\"\n",
    "\n",
    "user_input1 = input(\"Please enter the string: \")\n",
    "user_input2 = input(\"Please enter the string: \")\n",
    "\n",
    "new_user_input1 = user_input2[:2] + user_input1[2:]\n",
    "new_user_input2 = user_input1[:2] + user_input2[2:]\n",
    "\n",
    "print(new_user_input1)\n",
    "print(new_user_input2)\n"
   ]
  },
  {
   "cell_type": "code",
   "execution_count": 47,
   "metadata": {},
   "outputs": [
    {
     "name": "stdout",
     "output_type": "stream",
     "text": [
      "asdfing\n"
     ]
    }
   ],
   "source": [
    "## Uppgift 5\n",
    "# Skriv ett program som lägger till \"ing\" i slutet av en given sträng, om strängen är kortare än 3 tecken ska den lämnas ofärndrad.\n",
    "# Expempel-input: \"Python\"\n",
    "# Förväntad output: \"Pythoning\"\n",
    "\n",
    "user_input = input(\"Please enter the string: \")\n",
    "print(user_input if len(user_input) <= 3 else user_input + \"ing\")"
   ]
  },
  {
   "cell_type": "code",
   "execution_count": 96,
   "metadata": {},
   "outputs": [
    {
     "name": "stdout",
     "output_type": "stream",
     "text": [
      "atigihpcsnaelncaatr\n"
     ]
    }
   ],
   "source": [
    "## Uppgift 6\n",
    "# Skriv ett program som först tar bort all whitespace (mellanslag, tab (\\t), newline(\\n)), och sedan även tar bort alla tecken på ojämna indexvärden, från given sträng.\n",
    "# Exempel-input: \"a string with spaces and a newline character\\n\"\n",
    "# Förväntad output: \"atigihpcsnaelncaatr\"\n",
    "\n",
    "user_input = input(\"Please enter the string: \")\n",
    "user_input = \"\".join(user_input.split()).replace('\\\\n', '').replace('\\\\t', '')\n",
    "\n",
    "result = \"\"\n",
    "\n",
    "for index, charecter in enumerate(user_input):\n",
    "  if index % 2 == 0:\n",
    "    result += charecter\n",
    "\n",
    "print(result)\n"
   ]
  },
  {
   "cell_type": "code",
   "execution_count": 4,
   "metadata": {},
   "outputs": [
    {
     "name": "stdout",
     "output_type": "stream",
     "text": [
      "['black', 'green', 'red', 'white']\n"
     ]
    }
   ],
   "source": [
    "## Uppgift 7\n",
    "# Skriv ett program som tar en komma-separerad sekvens av ord och skriver ut de unika orden i alfabetisk ordning.\n",
    "# Exempel-input: \"red, white, black, red, green, black\"\n",
    "# Förväntad output: \"black, green, red, white\"\n",
    "\n",
    "user_input = input(\"Please enter the string: \")\n",
    "unique_values = set(samer.strip() for samer in user_input.split(\",\"))\n",
    "\n",
    "print(sorted(unique_values))"
   ]
  },
  {
   "cell_type": "code",
   "execution_count": 8,
   "metadata": {},
   "outputs": [
    {
     "name": "stdout",
     "output_type": "stream",
     "text": [
      "SAMERALWARD\n"
     ]
    }
   ],
   "source": [
    "## Uppgift 8\n",
    "\n",
    "# Skriv en funktion som konverterar en given sträng till versaler (uppercase)\n",
    "# om den innehåller minst 2 versaler bland de 4 första tecknen.\n",
    "\n",
    "user_input = input(\"Please enter the string: \")\n",
    "\n",
    "count = 0\n",
    "\n",
    "for charecter in user_input[:4]:\n",
    "  if charecter.isupper():\n",
    "      count += 1\n",
    "\n",
    "print(user_input.upper() if count >= 2 else user_input)"
   ]
  },
  {
   "cell_type": "code",
   "execution_count": 128,
   "metadata": {},
   "outputs": [
    {
     "name": "stdout",
     "output_type": "stream",
     "text": [
      "87654321\n"
     ]
    }
   ],
   "source": [
    "## Uppgift 9\n",
    "# Skriv en funktion som vänder (reverse) på en sträng om dess längd är en multipel av 4.\n",
    "user_input = list(input(\"Please enter the string: \"))\n",
    "user_input.reverse() if len(user_input) % 4 == 0 else user_input\n",
    "print(\"\".join(user_input))"
   ]
  },
  {
   "cell_type": "code",
   "execution_count": 97,
   "metadata": {},
   "outputs": [
    {
     "name": "stdout",
     "output_type": "stream",
     "text": [
      "onononon\n"
     ]
    }
   ],
   "source": [
    "## Uppgift 10\n",
    "# Skriv en funktion som skapar en ny sträng bestående av 4 kopior av de två sista tecken i en given sträng.\n",
    "# Exempel-input: \"Python\"\n",
    "# Förväntad output: \"onononon\"\n",
    "\n",
    "user_input = input(\"Please enter the string: \")\n",
    "print(user_input[-2:] * 4)"
   ]
  },
  {
   "cell_type": "code",
   "execution_count": 28,
   "metadata": {},
   "outputs": [
    {
     "name": "stdout",
     "output_type": "stream",
     "text": [
      "(13, 'e')\n"
     ]
    }
   ],
   "source": [
    "## Uppgift 11\n",
    "# Skriv en funktion som tar emot en lista med ord och returnerar det längsta ordet samt dess längd\n",
    "\n",
    "def GetLongestWordInList(words: list):\n",
    "  test = max((len(word), word[index]) for index, word in enumerate(words))\n",
    "  return (test)\n",
    "\n",
    "print(GetLongestWordInList(['first', 'second', 'third', 'forth', 'Sameeeeeeeeer']))\n",
    "\n",
    "\n"
   ]
  }
 ],
 "metadata": {
  "kernelspec": {
   "display_name": "Python 3",
   "language": "python",
   "name": "python3"
  },
  "language_info": {
   "codemirror_mode": {
    "name": "ipython",
    "version": 3
   },
   "file_extension": ".py",
   "mimetype": "text/x-python",
   "name": "python",
   "nbconvert_exporter": "python",
   "pygments_lexer": "ipython3",
   "version": "3.11.9"
  }
 },
 "nbformat": 4,
 "nbformat_minor": 2
}
