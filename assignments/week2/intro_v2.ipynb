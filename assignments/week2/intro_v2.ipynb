{
 "cells": [
  {
   "cell_type": "code",
   "execution_count": 2,
   "metadata": {},
   "outputs": [
    {
     "name": "stdout",
     "output_type": "stream",
     "text": [
      "Hej, jag heter Anna och är 30 år gammal.\n",
      "Hej, jag heter Erik och är 25 år gammal.\n",
      "Hej, jag heter Anna och är 30 år gammal. And my hobbies are Football, Drawing, Cooking \n",
      "Hej, jag heter Erik och är 25 år gammal. And my hobbies are Blogging, Painting, Dance \n"
     ]
    }
   ],
   "source": [
    "## Exempeluppgift del 2 - Attribut och metoder för `Person`\n",
    "\n",
    "# Utöka Person-klassen från föregående uppgift:\n",
    "\n",
    "# 1. Lägg till ett attribut `hobbies` som en lista i konstruktorn.\n",
    "# 2. Skapa en metod `add_hobby(hobby)` för att lägga till en hobby.\n",
    "# 3. Skapa en metod `get_hobbies()` som returnerar en sträng med alla hobbies.\n",
    "# 4. Skriv över/overwritea `__str__` metoden för att ge en fin strängrepresentation av objektet, när man till exempel printar ett Person-objekt.\n",
    "\n",
    "class Person:\n",
    "    def __init__(self, name, age):\n",
    "        self.name = name\n",
    "        self.age = age\n",
    "        self.hobbies = []\n",
    "    \n",
    "    def add_hobby(self, hobby):\n",
    "      self.hobbies.append(hobby)\n",
    "    \n",
    "    def get_hobbies(self):\n",
    "      return \", \".join(self.hobbies)\n",
    "    \n",
    "    def introduce(self):\n",
    "        return f\"Hej, jag heter {self.name} och är {self.age} år gammal.\"\n",
    "      \n",
    "    def __str__(self) -> str:\n",
    "       return f\"Hej, jag heter {self.name} och är {self.age} år gammal. And my hobbies are {self.get_hobbies()} \"\n",
    "\n",
    "# Skapa instanser och testa\n",
    "person1 = Person(\"Anna\", 30)\n",
    "person2 = Person(\"Erik\", 25)\n",
    "\n",
    "person1.add_hobby(\"Football\")\n",
    "person1.add_hobby(\"Drawing\")\n",
    "person1.add_hobby(\"Cooking\")\n",
    "\n",
    "person2.add_hobby(\"Blogging\")\n",
    "person2.add_hobby(\"Painting\")\n",
    "person2.add_hobby(\"Dance\")\n",
    "\n",
    "print(person1.introduce())\n",
    "print(person2.introduce())\n",
    "\n",
    "print(person1)\n",
    "print(person2)\n",
    "\n"
   ]
  },
  {
   "cell_type": "code",
   "execution_count": 5,
   "metadata": {},
   "outputs": [
    {
     "name": "stdout",
     "output_type": "stream",
     "text": [
      "500 has been deposited to your balance: Your balance: 500\n",
      "499 has been withdrawed to your balance: Your balance: 1\n",
      "You can't withdraw 2. You can withdraw at max: 1\n",
      "Your balance: 1\n"
     ]
    }
   ],
   "source": [
    "## Uppgift 1\n",
    "\n",
    "# Skriv en klass `Bankkonto`\n",
    "\n",
    "# * Den ska ha attributen `owner` och dess saldo/balance kommer initialt vara 0.\n",
    "# * Skapa metoder såsom `deposit(amount)` för att lägga till pengar till kontot samt `withdraw(amount)` för att ta ut pengar från kontot. Se också till att saldot ej kan bli negativ!\n",
    "# * Skapa en metod `display_balance()` för som printar kontots nuvarande saldo.\n",
    "\n",
    "class Bankkonto:\n",
    "    def __init__(self, owner) -> None:\n",
    "        self.owner = owner\n",
    "        self.balance = 0\n",
    "        \n",
    "    def deposit(self, amount):\n",
    "        self.balance += amount\n",
    "        print(f\"{amount} has been deposited to your balance: Your balance: {self.balance}\")\n",
    "        \n",
    "    def withdraw(self, amount):\n",
    "      if self.balance - amount <= 0:\n",
    "        print(f\"You can't withdraw {amount}. You can withdraw at max: {self.balance}\")\n",
    "        return\n",
    "      self.balance -= amount\n",
    "      print(f\"{amount} has been withdrawed to your balance: Your balance: {self.balance}\")\n",
    "      \n",
    "    def display_balance(self):\n",
    "      print(f\"Your balance: {self.balance}\")\n",
    "        \n",
    "bankkonto1 = Bankkonto(\"Anna\")\n",
    "\n",
    "bankkonto1.deposit(500)\n",
    "bankkonto1.withdraw(499)\n",
    "bankkonto1.withdraw(2)\n",
    "\n",
    "bankkonto1.display_balance()\n",
    "\n",
    "\n",
    "        "
   ]
  },
  {
   "cell_type": "code",
   "execution_count": 33,
   "metadata": {},
   "outputs": [
    {
     "name": "stdout",
     "output_type": "stream",
     "text": [
      "{'1960s': 16, 'a': 32, 'aasamer': 5, 'aldus': 16, 'also': 16, 'an': 16, 'and': 48, 'been': 16, 'but': 16, 'containing': 16, 'desktop': 16, 'dummy': 32, 'electronic': 16, 'essentially': 16, 'ever': 16, 'five': 16, 'galley': 16, 'has': 32, 'in': 16, 'including': 16, 'into': 16, 'ipsum': 48, 'is': 16, 'it': 48, 'leap': 16, 'letraset': 16, 'like': 16, 'lorem': 48, 'make': 16, 'more': 16, 'not': 16, 'of': 64, 'only': 16, 'pagemaker': 16, 'popularised': 16, 'printer': 16, 'printing': 16, 'publishing': 16, 'recently': 16, 'release': 16, 'remaining': 16, 'scrambled': 16, 'sheets': 16, 'simply': 16, 'since': 16, 'software': 16, 'specimen': 16, 'standard': 16, 'survived': 16, 'text': 32, 'the': 96, 'to': 16, 'took': 16, 'type': 32, 'typesetting': 16, 'unknown': 16, 'versions': 16, 'was': 16, 'when': 16, 'with': 32}\n"
     ]
    }
   ],
   "source": [
    "## Uppgift 4: Filläsning och ordräkning\n",
    "\n",
    "# Skapa en textfil (i samma mapp som ditt program). Skriv in eller kopiera in en text av valfri längd.\n",
    "# Läs in textfilen och använd ett dictionary för att räkna förekomsten av varje ord. Ignorera skiljetecken och konvertera alla ord till lowercase.\n",
    "\n",
    "with open(\"example.txt\", \"a\") as file:\n",
    "    file.write(\"AAsamer is simply dummy text of the printing and typesetting industry. Lorem Ipsum has been the industry's standard dummy text ever since the 1500s, when an unknown printer took a galley of type and scrambled it to make a type specimen book. It has survived not only five centuries, but also the leap into electronic typesetting, remaining essentially unchanged. It was popularised in the 1960s with the release of Letraset sheets containing Lorem Ipsum passages, and more recently with desktop publishing software like Aldus PageMaker including versions of Lorem Ipsum\\n\")\n",
    "\n",
    "\n",
    "\n",
    "with open(\"example.txt\", \"r\") as file:\n",
    "    content = ' '.join(c for c in file.read().lower().split() if c.isalnum()).split()\n",
    "\n",
    "words = {}\n",
    "\n",
    "for word in content:\n",
    "  if(word not in words):\n",
    "    words.update({word: 1})\n",
    "  else:\n",
    "    words.get(word)\n",
    "    words.update({word: words.get(word) + 1})\n",
    "    \n",
    "print(dict(sorted(words.items())))\n"
   ]
  },
  {
   "cell_type": "code",
   "execution_count": 39,
   "metadata": {},
   "outputs": [
    {
     "name": "stdout",
     "output_type": "stream",
     "text": [
      "[4, 8, 12, 16, 20]\n",
      "[6, 2, 3, 10, 19]\n"
     ]
    }
   ],
   "source": [
    "# 1. Kvadrater\n",
    "squares = [x**2 for x in range(1, 11)]\n",
    "\n",
    "# 2. Filtrera jämna tal\n",
    "numbers = [1, 2, 3, 4, 5, 6, 7, 8, 9, 10]\n",
    "even_numbers = [x for x in numbers if x % 2 == 0]\n",
    "\n",
    "print(even_numbers)\n",
    "\n",
    "# 3. Ordlängder\n",
    "sentence = \"Python är ett kraftfullt programmeringsspråk\"\n",
    "word_lengths = [len(word) for word in sentence.split()]\n",
    "\n",
    "print(word_lengths)"
   ]
  },
  {
   "cell_type": "code",
   "execution_count": 52,
   "metadata": {},
   "outputs": [
    {
     "name": "stdout",
     "output_type": "stream",
     "text": [
      "[4, 16, 36, 64, 100, 144, 196, 256, 324, 400, 484, 576, 676, 784, 900, 1024, 1156, 1296, 1444, 1600, 1764, 1936, 2116, 2304, 2500, 2704, 2916, 3136, 3364, 3600, 3844, 4096, 4356, 4624, 4900, 5184, 5476, 5776, 6084, 6400, 6724, 7056, 7396, 7744, 8100, 8464, 8836, 9216, 9604, 10000]\n",
      "[1, 2, 3, 5, 7, 11, 13, 17, 19, 23, 29, 31, 37, 41, 43, 47, 53, 59, 61, 67, 71, 73, 79, 83, 89, 97]\n"
     ]
    }
   ],
   "source": [
    "## Uppgift 13: Funktionell programmering - Map och Filter\n",
    "\n",
    "# Använd `map()` och `filter()` för att:\n",
    "\n",
    "# 1. Skapa en lista med kvadrater av alla jämna tal i en given lista.\n",
    "# 2. Filtrera ut alla primtal från en lista med tal.\n",
    "\n",
    "numbers = range(1, 101)\n",
    "\n",
    "result = list(map(lambda n: n**2, [n for n in numbers if n % 2 == 0]))\n",
    "print(result)\n",
    "\n",
    "result = list(filter(lambda n: all(n % i != 0 for i in range(2, n)), [n for n in numbers]))\n",
    "print(result)\n"
   ]
  },
  {
   "cell_type": "code",
   "execution_count": 4,
   "metadata": {},
   "outputs": [
    {
     "name": "stdout",
     "output_type": "stream",
     "text": [
      "68040000\n",
      "105\n"
     ]
    }
   ],
   "source": [
    "## Uppgift 14: Reduce-funktion\n",
    "\n",
    "# Importera och använd `functools.reduce()` för att:\n",
    "\n",
    "# 1. Beräkna produkten av alla tal i en lista.\n",
    "# 2. Hitta det största talet i en lista.\n",
    "from functools import reduce\n",
    "\n",
    "list = [1, 3, 5, 6, 2, 5, 10, 8, 9, 105]\n",
    "\n",
    "produkten = reduce(lambda a, b: a * b, list)\n",
    "print(produkten)\n",
    "\n",
    "största_talet = reduce(lambda x, y: x if x > y else y, list)\n",
    "print(största_talet)\n",
    "\n"
   ]
  },
  {
   "cell_type": "code",
   "execution_count": 11,
   "metadata": {},
   "outputs": [
    {
     "name": "stdout",
     "output_type": "stream",
     "text": [
      "['0', '3', '5', '6', '9', '10', '12', '15', '18', '20', '21', '24', '25', '27', '30', '33', '35', '36', '39', '40', '42', '45', '48', '50', '51', '54', '55', '57', '60', '63', '65', '66', '69', '70', '72', '75', '78', '80', '81', '84', '85', '87', '90', '93', '95', '96', '99', '100']\n",
      "['(0, 0)', '(0, 1)', '(0, 2)', '(0, 3)', '(0, 4)', '(0, 5)', '(1, 0)', '(1, 1)', '(1, 2)', '(1, 3)', '(1, 4)', '(1, 5)', '(2, 0)', '(2, 1)', '(2, 2)', '(2, 3)', '(2, 4)', '(2, 5)', '(3, 0)', '(3, 1)', '(3, 2)', '(3, 3)', '(3, 4)', '(3, 5)', '(4, 0)', '(4, 1)', '(4, 2)', '(4, 3)', '(4, 4)', '(4, 5)', '(5, 0)', '(5, 1)', '(5, 2)', '(5, 3)', '(5, 4)', '(5, 5)']\n"
     ]
    }
   ],
   "source": [
    "## Uppgift 16: List comprehensions vs. for-loopar\n",
    "\n",
    "# Skriv list comprehensions för att:\n",
    "\n",
    "# 1. Skapa och skriv ut en lista med alla tal mellan 1 och 100 som är delbara med 3 eller 5.\n",
    "# 2. Generera och skriv ut en lista med tupler (x, y) för alla x och y där 0 <= x < 5 och 0 <= y < 5.\n",
    "\n",
    "result1 = [f\"{n}\" for n in range(101) if n % 3 == 0 or n % 5 == 0]\n",
    "print(result1)\n",
    "\n",
    "result2 = [f\"{(x, y)}\" for x in range(6) for y in range(6)]\n",
    "print(result2)\n"
   ]
  }
 ],
 "metadata": {
  "kernelspec": {
   "display_name": "Python 3",
   "language": "python",
   "name": "python3"
  },
  "language_info": {
   "codemirror_mode": {
    "name": "ipython",
    "version": 3
   },
   "file_extension": ".py",
   "mimetype": "text/x-python",
   "name": "python",
   "nbconvert_exporter": "python",
   "pygments_lexer": "ipython3",
   "version": "3.11.9"
  }
 },
 "nbformat": 4,
 "nbformat_minor": 2
}
